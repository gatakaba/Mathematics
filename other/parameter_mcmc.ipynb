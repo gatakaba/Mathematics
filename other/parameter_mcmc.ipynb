{
 "cells": [
  {
   "cell_type": "code",
   "execution_count": 1,
   "metadata": {
    "collapsed": true
   },
   "outputs": [],
   "source": [
    "%matplotlib inline\n",
    "import numpy as np\n",
    "import matplotlib.pyplot as plt\n",
    "import copy"
   ]
  },
  {
   "cell_type": "code",
   "execution_count": 147,
   "metadata": {
    "collapsed": true
   },
   "outputs": [],
   "source": [
    "class system(object):\n",
    "    def __init__(self):\n",
    "        self.N = 2\n",
    "        self.A=np.eye(self.N)\n",
    "        self.B=np.ones([self.N,1])\n",
    "        self.C=np.ones([self.N,1])\n",
    "        self.initial_state = np.random.normal(size=[self.N,1]) *0.01\n",
    "        \n",
    "    def update_param(self):\n",
    "        \n",
    "        self.A +=np.random.normal(size=[self.N,self.N]) *0.001\n",
    "        self.B +=np.random.normal(size=[self.N,1]) *0.001\n",
    "        self.C +=np.random.normal(size=[self.N,1]) *0.001\n",
    "        self.initial_state += np.random.normal(size=[self.N,1])*0.01\n",
    "        return self\n",
    "    \n",
    "    def next_state(self,state,system_input):\n",
    "        return self.A @ state + self.B *system_input\n",
    "    \n",
    "    def output(self,state):\n",
    "        return np.ravel(np.dot(self.C.T,state))\n",
    "    \n",
    "    def predict(self,u):\n",
    "        state = self.initial_state\n",
    "        y = []\n",
    "        for i in range(len(u)):\n",
    "            state = self.next_state(state,u[i])\n",
    "            y.append(self.output(state))\n",
    "            \n",
    "        return np.array(y)"
   ]
  },
  {
   "cell_type": "code",
   "execution_count": 148,
   "metadata": {},
   "outputs": [
    {
     "name": "stdout",
     "output_type": "stream",
     "text": [
      "0 470261.441316\n",
      "2 325281.299892\n",
      "52 233343.633113\n",
      "53 192893.095076\n",
      "54 150022.623656\n",
      "56 141797.806547\n"
     ]
    }
   ],
   "source": [
    "t = np.linspace(0,6,1000)\n",
    "\n",
    "u = np.sin(t)\n",
    "teach = (u*2)\n",
    "tmp = np.inf\n",
    "\n",
    "t = t.reshape(-1,1)\n",
    "\n",
    "best_model = system()\n",
    "\n",
    "while True:\n",
    "    best_model = system()\n",
    "    if not (score == np.nan or score == np.inf):\n",
    "        initial_best_model = system()\n",
    "        break\n",
    "        \n",
    "for i in range(100):    \n",
    "    s = best_model.update_param()\n",
    "    pred = s.predict(u)\n",
    "    score = np.linalg.norm(teach-pred)\n",
    "\n",
    "    if  score < tmp:\n",
    "        tmp = score\n",
    "        best_model = copy.deepcopy(s)\n",
    "        print(i,tmp)\n",
    "        \n",
    "    if (score == np.nan or score == np.inf):\n",
    "       best_model = copy.deepcopy(initial_best_model) \n",
    "    "
   ]
  },
  {
   "cell_type": "code",
   "execution_count": 149,
   "metadata": {},
   "outputs": [
    {
     "data": {
      "text/plain": [
       "<matplotlib.legend.Legend at 0x10c9c3a58>"
      ]
     },
     "execution_count": 149,
     "metadata": {},
     "output_type": "execute_result"
    },
    {
     "data": {
      "image/png": "[encoded data removed]",
      "text/plain": [
       "<matplotlib.figure.Figure at 0x10c90e160>"
      ]
     },
     "metadata": {},
     "output_type": "display_data"
    }
   ],
   "source": [
    "plt.plot(u,label = 'input')\n",
    "plt.plot(teach,label = 'teach')\n",
    "plt.plot(best_model.predict(u),label='predict')\n",
    "plt.legend()"
   ]
  },
  {
   "cell_type": "code",
   "execution_count": null,
   "metadata": {
    "collapsed": true
   },
   "outputs": [],
   "source": []
  },
  {
   "cell_type": "code",
   "execution_count": null,
   "metadata": {
    "collapsed": true
   },
   "outputs": [],
   "source": []
  }
 ],
 "metadata": {
  "kernelspec": {
   "display_name": "Python 3",
   "language": "python",
   "name": "python3"
  },
  "language_info": {
   "codemirror_mode": {
    "name": "ipython",
    "version": 3
   },
   "file_extension": ".py",
   "mimetype": "text/x-python",
   "name": "python",
   "nbconvert_exporter": "python",
   "pygments_lexer": "ipython3",
   "version": "3.5.3"
  }
 },
 "nbformat": 4,
 "nbformat_minor": 2
}

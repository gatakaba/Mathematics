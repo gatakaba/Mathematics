{
 "cells": [
  {
   "cell_type": "markdown",
   "metadata": {},
   "source": [
    "# GPflowについて\n",
    "\n",
    "GPflowはTensorFlowを用いて、pythonによりガウス過程モデルを構築するためのパッケージです。\n",
    "\n",
    "## 実装されているもの\n",
    "### 回帰\n",
    "- ガウシアンノイズを伴うGP回帰の場合、関数値を正確に外挿することは可能です。共分散関数のパラメータに対して最尤推定またはMCMCを用いることが可能です\n",
    "### MCMC\n",
    "- 非ガウス型尤度の場合、GPflowには関数値と共分散パラメータを一緒にサンプリングできるモデルがあります。\n",
    "\n",
    "### 変分推論\n",
    "- 関数値をガウス関数として近似することができます。\n",
    "\n",
    "### GPLVM\n",
    "- 可視化のためにGPMとBayesian GPLVMモデルはGPflowに実装されています。"
   ]
  }
 ],
 "metadata": {
  "kernelspec": {
   "display_name": "Python 3",
   "language": "python",
   "name": "python3"
  },
  "language_info": {
   "codemirror_mode": {
    "name": "ipython",
    "version": 3
   },
   "file_extension": ".py",
   "mimetype": "text/x-python",
   "name": "python",
   "nbconvert_exporter": "python",
   "pygments_lexer": "ipython3",
   "version": "3.5.2"
  }
 },
 "nbformat": 4,
 "nbformat_minor": 2
}

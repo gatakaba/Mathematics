{
 "cells": [
  {
   "cell_type": "markdown",
   "metadata": {},
   "source": [
    "# ベルヌーイ分布のパラメータ推定\n",
    "\n",
    "\n",
    "## データ\n",
    "- D : 1が出た回数\n",
    "- N : データ数\n",
    "\n",
    "## パラメータ\n",
    "- mu : 1が出る確率\n",
    "\n",
    "## モデル\n",
    "\n",
    "$p(\\mu) = beta(1,1)$\n",
    "\n",
    "$p(y_{n}|p) = binomial(y_{n}|\\mu)$"
   ]
  },
  {
   "cell_type": "code",
   "execution_count": 2,
   "metadata": {
    "collapsed": true
   },
   "outputs": [],
   "source": [
    "%matplotlib inline"
   ]
  },
  {
   "cell_type": "code",
   "execution_count": 3,
   "metadata": {
    "collapsed": true
   },
   "outputs": [],
   "source": [
    "import pystan\n",
    "import numpy as np\n",
    "import matplotlib.pyplot as plt"
   ]
  },
  {
   "cell_type": "code",
   "execution_count": 4,
   "metadata": {
    "collapsed": false
   },
   "outputs": [
    {
     "name": "stdout",
     "output_type": "stream",
     "text": [
      "Inference for Stan model: anon_model_594c0f3d496257b1fe9ee4aa481b8b02.\n",
      "4 chains, each with iter=1000; warmup=500; thin=1; \n",
      "post-warmup draws per chain=500, total post-warmup draws=2000.\n",
      "\n",
      "       mean se_mean     sd   2.5%    25%    50%    75%  97.5%  n_eff   Rhat\n",
      "mu     0.11  7.7e-4   0.03   0.06   0.09    0.1   0.13   0.17   1594    1.0\n",
      "lp__  -35.4    0.02   0.76 -37.62 -35.54 -35.11 -34.93 -34.88   1030    1.0\n",
      "\n",
      "Samples were drawn using NUTS at Mon Nov  7 22:42:51 2016.\n",
      "For each parameter, n_eff is a crude measure of effective sample size,\n",
      "and Rhat is the potential scale reduction factor on split chains (at \n",
      "convergence, Rhat=1).\n"
     ]
    }
   ],
   "source": [
    "stan_code = \"\"\"\n",
    "data{\n",
    "    int D;\n",
    "    int N;\n",
    "}\n",
    "parameters{\n",
    "    real <lower=0,upper=1> mu;\n",
    "}\n",
    "model{\n",
    "    mu ~ beta(1,1);\n",
    "    D ~ binomial(N,mu);\n",
    "    \n",
    "}\n",
    "\"\"\"\n",
    "\n",
    "stan_dat = {'D': 10,\n",
    "            'N': 100\n",
    "              }\n",
    "\n",
    "fit = pystan.stan(model_code=stan_code, data=stan_dat,iter=1000, chains=4)\n",
    "\n",
    "print(fit)\n"
   ]
  },
  {
   "cell_type": "code",
   "execution_count": 5,
   "metadata": {
    "collapsed": false
   },
   "outputs": [
    {
     "data": {
      "image/png": "[encoded data removed]",
      "text/plain": [
       "<matplotlib.figure.Figure at 0x10b883b38>"
      ]
     },
     "metadata": {},
     "output_type": "display_data"
    }
   ],
   "source": [
    "fit.plot()\n",
    "plt.show()"
   ]
  },
  {
   "cell_type": "code",
   "execution_count": null,
   "metadata": {
    "collapsed": true
   },
   "outputs": [],
   "source": []
  }
 ],
 "metadata": {
  "anaconda-cloud": {},
  "kernelspec": {
   "display_name": "Python [default]",
   "language": "python",
   "name": "python3"
  },
  "language_info": {
   "codemirror_mode": {
    "name": "ipython",
    "version": 3
   },
   "file_extension": ".py",
   "mimetype": "text/x-python",
   "name": "python",
   "nbconvert_exporter": "python",
   "pygments_lexer": "ipython3",
   "version": "3.5.1"
  }
 },
 "nbformat": 4,
 "nbformat_minor": 0
}

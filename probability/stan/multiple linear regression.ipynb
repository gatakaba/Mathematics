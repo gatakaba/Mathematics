{
 "cells": [
  {
   "cell_type": "markdown",
   "metadata": {},
   "source": [
    "## 重回帰\n",
    "\n",
    "## 目的\n",
    "- アルバイトが好きか否かというデータと学問への興味の強さを数値化したデータから出席率を予測する\n",
    "\n",
    "## データ\n",
    "- N : データの個数\n",
    "- A : アルバイトが好きか否か\n",
    "- Score : 学問への興味の強さ\n",
    "- Y : 一年の出席率\n",
    "\n",
    "## パラメータ\n",
    "- b1 : 切片\n",
    "- b2 : Aに関する傾き\n",
    "- b3 : Scoreに関する傾き\n",
    "- sigma : 分散\n",
    "\n",
    "## モデル\n",
    "\n",
    "- $ mu[n] =b1 + b2*A[n] + b3*Score[n] $\n",
    "\n",
    "- $Y[n] \\sim Normal(\\mu[n],sigma)$"
   ]
  },
  {
   "cell_type": "code",
   "execution_count": 1,
   "metadata": {
    "collapsed": true
   },
   "outputs": [],
   "source": [
    "%matplotlib inline"
   ]
  },
  {
   "cell_type": "code",
   "execution_count": 2,
   "metadata": {
    "collapsed": true
   },
   "outputs": [],
   "source": [
    "import pystan\n",
    "import numpy as np\n",
    "import matplotlib.pyplot as plt\n",
    "import pandas as pd\n",
    "import seaborn as sns"
   ]
  },
  {
   "cell_type": "code",
   "execution_count": 26,
   "metadata": {
    "collapsed": true
   },
   "outputs": [],
   "source": [
    "stan_code = \"\"\"\n",
    "data {\n",
    "    int N;\n",
    "    int<lower=0, upper=1> A[N];\n",
    "    real<lower=0, upper=1> Score[N];\n",
    "    real<lower=0, upper=1> Y[N];\n",
    "}\n",
    "\n",
    "parameters {\n",
    "    real b1;\n",
    "    real b2;\n",
    "    real b3;\n",
    "    real < lower = 0 > sigma;\n",
    "}\n",
    "\n",
    "transformed parameters {\n",
    "    real mu[N];\n",
    "    for (n in 1:N)\n",
    "        mu[n] = b1 +b2 *A[n] + b3*Score[n];\n",
    "}\n",
    "\n",
    "model {\n",
    "    for (n in 1:N)\n",
    "        Y[n] ~ normal(mu[n],sigma);\n",
    "}\n",
    "\n",
    "generated quantities {\n",
    "    real y_pred[N];\n",
    "    for (n in 1:N)\n",
    "        y_pred[n] = normal_rng(mu[n],sigma);\n",
    "}\n",
    "\n",
    "\"\"\""
   ]
  },
  {
   "cell_type": "code",
   "execution_count": 27,
   "metadata": {
    "collapsed": false
   },
   "outputs": [],
   "source": [
    "df=pd.read_csv(\"data/data-attendance-1.txt\")\n",
    "\n",
    "stan_dat = {\n",
    "    'N': len(df),\n",
    "    'A': df[\"A\"],\n",
    "    'Y': df[\"Y\"],\n",
    "    'Score': df[\"Score\"]/200,   \n",
    "}\n",
    "\n",
    "fit = pystan.stan(model_code = stan_code, data = stan_dat, iter = 1000, chains = 4)\n"
   ]
  },
  {
   "cell_type": "code",
   "execution_count": 45,
   "metadata": {
    "collapsed": false
   },
   "outputs": [],
   "source": [
    "la=fit.extract()"
   ]
  },
  {
   "cell_type": "code",
   "execution_count": 55,
   "metadata": {
    "collapsed": false
   },
   "outputs": [
    {
     "name": "stdout",
     "output_type": "stream",
     "text": [
      "0.126476564983 -0.14374619578 0.321030141435 0.0512171850879\n"
     ]
    }
   ],
   "source": [
    "b1=np.median(la[\"b1\"])\n",
    "b2=np.median(la[\"b2\"])\n",
    "b3=np.median(la[\"b3\"])\n",
    "sigma=np.median(la[\"sigma\"])\n",
    "print(b1,b2,b3,sigma)"
   ]
  },
  {
   "cell_type": "markdown",
   "metadata": {},
   "source": [
    "## モデリング結果\n",
    "$\\mu[n] = 0.126476564983 -0.14374619578 * A[n] +0.321030141435* Score[n] / 200$\n",
    "\n",
    "$p(Y[n])=Normal(\\mu[n],0.05)$"
   ]
  },
  {
   "cell_type": "code",
   "execution_count": null,
   "metadata": {
    "collapsed": true
   },
   "outputs": [],
   "source": []
  }
 ],
 "metadata": {
  "anaconda-cloud": {},
  "kernelspec": {
   "display_name": "Python [default]",
   "language": "python",
   "name": "python3"
  },
  "language_info": {
   "codemirror_mode": {
    "name": "ipython",
    "version": 3
   },
   "file_extension": ".py",
   "mimetype": "text/x-python",
   "name": "python",
   "nbconvert_exporter": "python",
   "pygments_lexer": "ipython3",
   "version": "3.5.1"
  }
 },
 "nbformat": 4,
 "nbformat_minor": 0
}

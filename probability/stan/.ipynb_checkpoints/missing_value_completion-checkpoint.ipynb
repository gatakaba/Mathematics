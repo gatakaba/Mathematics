{
 "cells": [
  {
   "cell_type": "markdown",
   "metadata": {},
   "source": [
    "# 状態空間モデルによる欠損値補完"
   ]
  },
  {
   "cell_type": "markdown",
   "metadata": {},
   "source": [
    "ローカルレベルトレンドモデルによる欠損値補完"
   ]
  },
  {
   "cell_type": "markdown",
   "metadata": {},
   "source": [
    "## データ\n",
    "- N : 全区間のデータ数\n",
    "- M : 観測データ数\n",
    "- L : 欠損データ数\n",
    "- Y : 観測データ\n",
    "- missing_index : 欠損データのインデックス"
   ]
  },
  {
   "cell_type": "markdown",
   "metadata": {},
   "source": [
    "## パラメータ\n",
    "- mu : 状態\n",
    "- sigma_mu : システムモデル分散\n",
    "- sigma_Y : 観測モデル分散"
   ]
  },
  {
   "cell_type": "markdown",
   "metadata": {},
   "source": [
    "## モデル\n",
    "- $\\mu_{t} \\sim Normal(\\mu_{t-1},\\sigma_{\\mu}) $\n",
    "\n",
    "- $Y_{t} \\sim Normal(\\mu_{t},\\sigma_{Y}) $"
   ]
  },
  {
   "cell_type": "code",
   "execution_count": 1,
   "metadata": {
    "collapsed": true
   },
   "outputs": [],
   "source": [
    "%matplotlib inline\n",
    "import pystan\n",
    "import numpy as np\n",
    "import matplotlib.pyplot as plt\n",
    "plt.rcParams['figure.figsize'] = (20, 12)"
   ]
  },
  {
   "cell_type": "code",
   "execution_count": 14,
   "metadata": {
    "collapsed": true
   },
   "outputs": [],
   "source": [
    "stan_code = \"\"\"\n",
    "data {\n",
    "    int N;\n",
    "    int M;\n",
    "    int L;\n",
    "    vector[N] Y;\n",
    "    int missing_index[L];\n",
    "}\n",
    "\n",
    "parameters {\n",
    "    vector[N] mu;\n",
    "    real<lower=0> s_mu;\n",
    "    real<lower=0> s_Y;\n",
    "}\n",
    "\n",
    "model {\n",
    "    int cnt;\n",
    "    cnt = 1;\n",
    "    \n",
    "    mu[2:N] ~ normal(mu[1:(N-1)],s_mu);\n",
    "\n",
    "    for(i in 1:N){\n",
    "        if(missing_index[cnt] ==i){\n",
    "            if(cnt < L)\n",
    "                cnt = cnt + 1;\n",
    "        }else{\n",
    "            Y[i] ~ normal(mu[i],s_Y);\n",
    "        }\n",
    "    }\n",
    "}\n",
    "\n",
    "\"\"\""
   ]
  },
  {
   "cell_type": "code",
   "execution_count": null,
   "metadata": {
    "collapsed": false
   },
   "outputs": [],
   "source": [
    "x=list(range(18))\n",
    "np.random.shuffle(x)\n",
    "\n",
    "y=np.cumsum(np.random.normal(0,1,size=20))\n",
    "\n",
    "stan_dat = {\n",
    "    'N': 20,\n",
    "    'M': 18,\n",
    "    'L': 2,\n",
    "    'Y': y,\n",
    "    'missing_index' : [5,8]\n",
    "}\n",
    "fit = pystan.stan(model_code = stan_code, data = stan_dat, iter = 2500, chains = 4)"
   ]
  },
  {
   "cell_type": "code",
   "execution_count": null,
   "metadata": {
    "collapsed": true
   },
   "outputs": [],
   "source": [
    "y=np.cumsum(np.random.normal(0,1,size=18))\n",
    "s=np.empty(20)\n",
    "N=20\n",
    "M=18\n",
    "L=2\n",
    "missing_index=[3,5]"
   ]
  },
  {
   "cell_type": "code",
   "execution_count": null,
   "metadata": {
    "collapsed": true
   },
   "outputs": [],
   "source": []
  }
 ],
 "metadata": {
  "anaconda-cloud": {},
  "kernelspec": {
   "display_name": "Python [conda root]",
   "language": "python",
   "name": "conda-root-py"
  },
  "language_info": {
   "codemirror_mode": {
    "name": "ipython",
    "version": 3
   },
   "file_extension": ".py",
   "mimetype": "text/x-python",
   "name": "python",
   "nbconvert_exporter": "python",
   "pygments_lexer": "ipython3",
   "version": "3.5.1"
  }
 },
 "nbformat": 4,
 "nbformat_minor": 0
}

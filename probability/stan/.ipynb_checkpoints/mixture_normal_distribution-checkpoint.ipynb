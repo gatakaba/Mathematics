{
 "cells": [
  {
   "cell_type": "markdown",
   "metadata": {},
   "source": [
    "# 混合正規分布\n",
    "\n",
    "## 目的\n",
    "- 混合正規分布のパラメータ推定\n",
    "- クラス数は既知で2クラス\n",
    "\n",
    "## データ\n",
    "- Y : 成績\n",
    "- N : データ数\n",
    "\n",
    "## パラメータ\n",
    "- a : クラス1の確率\n",
    "- mu : 平均値\n",
    "- sigma : 分散値\n",
    "\n",
    "## モデル\n",
    "\n",
    "- $Y_{n} \\sim NormalMixture(y|a,\\mu_{1},\\mu_{2},\\sigma_{1},\\sigma_{2})$\n"
   ]
  },
  {
   "cell_type": "code",
   "execution_count": 6,
   "metadata": {
    "collapsed": true
   },
   "outputs": [],
   "source": [
    "%matplotlib inline"
   ]
  },
  {
   "cell_type": "code",
   "execution_count": 7,
   "metadata": {
    "collapsed": true
   },
   "outputs": [],
   "source": [
    "import pystan\n",
    "import numpy as np\n",
    "import pandas as pd\n",
    "import matplotlib.pyplot as plt"
   ]
  },
  {
   "cell_type": "code",
   "execution_count": 28,
   "metadata": {
    "collapsed": true
   },
   "outputs": [],
   "source": [
    "stan_code = \"\"\"\n",
    "data {\n",
    "  int N;\n",
    "  int K;\n",
    "  vector[N] Y;\n",
    "}\n",
    "\n",
    "parameters {\n",
    "  simplex[K] a;\n",
    "  ordered[K] mu;\n",
    "  vector<lower=0>[K] sigma;\n",
    "  real<lower=0> s_mu;\n",
    "}\n",
    "\n",
    "model {\n",
    "  mu ~normal(mean(Y), s_mu);\n",
    "  sigma ~ gamma(1.5, 1.0);\n",
    "  \n",
    "  for (n in 1:N){\n",
    "    vector[K] lp;\n",
    "    for (k in 1:K)\n",
    "        lp[k] = log(a[k]) + normal_lpdf(Y[n]|mu[k],sigma[k]);\n",
    "    target += log_sum_exp(lp);\n",
    "    }\n",
    "}\n",
    "\"\"\""
   ]
  },
  {
   "cell_type": "code",
   "execution_count": 29,
   "metadata": {
    "collapsed": false
   },
   "outputs": [],
   "source": [
    "df=pd.read_csv(\"data/data-mix1.txt\")\n",
    "\n",
    "stan_dat = {\n",
    "    'N': len(df),\n",
    "    'K':2,\n",
    "    'Y': df['Y']\n",
    "}"
   ]
  },
  {
   "cell_type": "code",
   "execution_count": 30,
   "metadata": {
    "collapsed": false
   },
   "outputs": [
    {
     "name": "stdout",
     "output_type": "stream",
     "text": [
      "Inference for Stan model: anon_model_562d23bef5ca75a2f2fbb653275d77bc.\n",
      "4 chains, each with iter=2500; warmup=1250; thin=1; \n",
      "post-warmup draws per chain=1250, total post-warmup draws=5000.\n",
      "\n",
      "           mean se_mean     sd   2.5%    25%    50%    75%  97.5%  n_eff   Rhat\n",
      "a[0]       0.55  1.9e-3   0.07   0.39   0.51   0.56    0.6   0.67   1378    1.0\n",
      "a[1]       0.45  1.9e-3   0.07   0.33    0.4   0.44   0.49   0.61   1378    1.0\n",
      "mu[0]     -0.03  5.0e-3   0.22  -0.46  -0.18  -0.04   0.11   0.41   2013    1.0\n",
      "mu[1]      5.81    0.02   0.62   4.35   5.47   5.88   6.23   6.81   1587    1.0\n",
      "sigma[0]   1.29  3.9e-3   0.18   0.98   1.17   1.29    1.4   1.69   2056    1.0\n",
      "sigma[1]   2.35    0.01   0.43   1.67   2.04   2.29    2.6   3.36   1637    1.0\n",
      "s_mu       21.1    2.19  99.55   1.91   3.73   6.49  13.19 114.03   2072    1.0\n",
      "lp__     -253.6    0.05   1.83 -258.2 -254.6 -253.3 -252.3 -251.1   1643    1.0\n",
      "\n",
      "Samples were drawn using NUTS at Tue Nov 15 22:09:33 2016.\n",
      "For each parameter, n_eff is a crude measure of effective sample size,\n",
      "and Rhat is the potential scale reduction factor on split chains (at \n",
      "convergence, Rhat=1).\n"
     ]
    }
   ],
   "source": [
    "fit = pystan.stan(model_code = stan_code, data = stan_dat, iter = 2500, chains = 4)\n",
    "print(fit)"
   ]
  },
  {
   "cell_type": "code",
   "execution_count": 37,
   "metadata": {
    "collapsed": false
   },
   "outputs": [
    {
     "ename": "NameError",
     "evalue": "name 'mu' is not defined",
     "output_type": "error",
     "traceback": [
      "\u001b[0;31m---------------------------------------------------------------------------\u001b[0m",
      "\u001b[0;31mNameError\u001b[0m                                 Traceback (most recent call last)",
      "\u001b[0;32m<ipython-input-37-55140fae92ef>\u001b[0m in \u001b[0;36m<module>\u001b[0;34m()\u001b[0m\n\u001b[1;32m      2\u001b[0m \u001b[0mx\u001b[0m\u001b[0;34m=\u001b[0m\u001b[0mnp\u001b[0m\u001b[0;34m.\u001b[0m\u001b[0mlinspace\u001b[0m\u001b[0;34m(\u001b[0m\u001b[0;34m-\u001b[0m\u001b[0;36m2\u001b[0m\u001b[0;34m,\u001b[0m\u001b[0;36m12\u001b[0m\u001b[0;34m)\u001b[0m\u001b[0;34m\u001b[0m\u001b[0m\n\u001b[1;32m      3\u001b[0m \u001b[0;32mfrom\u001b[0m \u001b[0mscipy\u001b[0m \u001b[0;32mimport\u001b[0m \u001b[0mstats\u001b[0m\u001b[0;34m\u001b[0m\u001b[0m\n\u001b[0;32m----> 4\u001b[0;31m \u001b[0mpd\u001b[0m\u001b[0;34m=\u001b[0m\u001b[0mstats\u001b[0m\u001b[0;34m.\u001b[0m\u001b[0mnorm\u001b[0m\u001b[0;34m(\u001b[0m\u001b[0mmu\u001b[0m\u001b[0;34m[\u001b[0m\u001b[0;36m0\u001b[0m\u001b[0;34m]\u001b[0m\u001b[0;34m,\u001b[0m\u001b[0msigma\u001b[0m\u001b[0;34m[\u001b[0m\u001b[0;36m0\u001b[0m\u001b[0;34m]\u001b[0m\u001b[0;34m)\u001b[0m\u001b[0;34m\u001b[0m\u001b[0m\n\u001b[0m",
      "\u001b[0;31mNameError\u001b[0m: name 'mu' is not defined"
     ]
    },
    {
     "data": {
      "image/png": "[encoded data removed]",
      "text/plain": [
       "<matplotlib.figure.Figure at 0x1152196d8>"
      ]
     },
     "metadata": {},
     "output_type": "display_data"
    }
   ],
   "source": [
    "plt.hist(df['Y'],bins=20)\n",
    "x=np.linspace(-2,12)\n",
    "from scipy import stats\n"
   ]
  },
  {
   "cell_type": "code",
   "execution_count": null,
   "metadata": {
    "collapsed": true
   },
   "outputs": [],
   "source": []
  }
 ],
 "metadata": {
  "anaconda-cloud": {},
  "kernelspec": {
   "display_name": "Python [default]",
   "language": "python",
   "name": "python3"
  },
  "language_info": {
   "codemirror_mode": {
    "name": "ipython",
    "version": 3
   },
   "file_extension": ".py",
   "mimetype": "text/x-python",
   "name": "python",
   "nbconvert_exporter": "python",
   "pygments_lexer": "ipython3",
   "version": "3.5.1"
  }
 },
 "nbformat": 4,
 "nbformat_minor": 0
}

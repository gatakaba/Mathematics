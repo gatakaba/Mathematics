{
 "cells": [
  {
   "cell_type": "code",
   "execution_count": null,
   "metadata": {
    "collapsed": true
   },
   "outputs": [],
   "source": [
    "# ガウス分布のパラメータ推定\n",
    "\n",
    "\n",
    "## データ\n",
    "- N : データの個数\n",
    "- y : データの値\n",
    "\n",
    "## パラメータ\n",
    "- mu : 1が出る確率\n",
    "\n",
    "\n",
    "## モデル\n",
    "\n",
    "$p(\\mu) = beta(1,1)$\n",
    "\n",
    "$p(y_{n}|p) = binomial(y_{n}|\\mu)$"
   ]
  }
 ],
 "metadata": {
  "anaconda-cloud": {},
  "kernelspec": {
   "display_name": "Python [default]",
   "language": "python",
   "name": "python3"
  },
  "language_info": {
   "codemirror_mode": {
    "name": "ipython",
    "version": 3
   },
   "file_extension": ".py",
   "mimetype": "text/x-python",
   "name": "python",
   "nbconvert_exporter": "python",
   "pygments_lexer": "ipython3",
   "version": "3.5.1"
  }
 },
 "nbformat": 4,
 "nbformat_minor": 0
}

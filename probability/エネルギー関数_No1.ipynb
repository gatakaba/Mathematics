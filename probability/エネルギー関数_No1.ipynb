{
 "cells": [
  {
   "cell_type": "markdown",
   "metadata": {},
   "source": [
    "# 簡単な結合確率の計算例"
   ]
  },
  {
   "cell_type": "markdown",
   "metadata": {},
   "source": [
    "$p(x,y) = \\frac{exp(ax+by)}{Z}$\n",
    "\n",
    "$Z=4 cosh(a) cosh(y)$"
   ]
  },
  {
   "cell_type": "code",
   "execution_count": 12,
   "metadata": {
    "collapsed": true
   },
   "outputs": [],
   "source": [
    "import numpy as np\n",
    "import matplotlib.pyplot as plt\n",
    "import pandas as pd\n",
    "from ipywidgets import interact\n",
    "import seaborn as sns"
   ]
  },
  {
   "cell_type": "code",
   "execution_count": 2,
   "metadata": {
    "collapsed": true
   },
   "outputs": [],
   "source": [
    "%matplotlib inline"
   ]
  },
  {
   "cell_type": "code",
   "execution_count": 20,
   "metadata": {
    "collapsed": false
   },
   "outputs": [
    {
     "name": "stdout",
     "output_type": "stream",
     "text": [
      "     p(x,y)  x  y\n",
      "0  0.211641 -1 -1\n",
      "1  0.401373 -1  1\n",
      "2  0.133606  1 -1\n",
      "3  0.253380  1  1\n"
     ]
    }
   ],
   "source": [
    "df=None\n",
    "@interact(a_range=(-0.5,0.5,0.01),b_range=(-0.5,0.5,0.01))\n",
    "def sample(a_range,b_range):\n",
    "    def p(x,y):\n",
    "        a=a_range\n",
    "        b=b_range\n",
    "        Z=4*np.cosh(a)*np.cosh(b)\n",
    "        return np.exp(a*x+b*y)/Z\n",
    "\n",
    "    result=[]\n",
    "    for i in [-1,1]:\n",
    "        for j in [-1,1]:\n",
    "            result.append({\"x\":i,\"y\":j,\"p(x,y)\":p(i,j)})\n",
    "    global df\n",
    "    df=pd.DataFrame(result)\n",
    "    print(df)"
   ]
  },
  {
   "cell_type": "markdown",
   "metadata": {},
   "source": [
    "# memo\n",
    "- aが大きい場合,p(x=1)の値が大きくなり,\n",
    "- bが大きい場合,p(y=1)の値が大きくなる\n"
   ]
  },
  {
   "cell_type": "code",
   "execution_count": null,
   "metadata": {
    "collapsed": true
   },
   "outputs": [],
   "source": []
  }
 ],
 "metadata": {
  "anaconda-cloud": {},
  "kernelspec": {
   "display_name": "Python [Root]",
   "language": "python",
   "name": "Python [Root]"
  },
  "language_info": {
   "codemirror_mode": {
    "name": "ipython",
    "version": 3
   },
   "file_extension": ".py",
   "mimetype": "text/x-python",
   "name": "python",
   "nbconvert_exporter": "python",
   "pygments_lexer": "ipython3",
   "version": "3.5.1"
  }
 },
 "nbformat": 4,
 "nbformat_minor": 0
}

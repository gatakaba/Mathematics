{
 "cells": [
  {
   "cell_type": "code",
   "execution_count": 34,
   "metadata": {
    "collapsed": true
   },
   "outputs": [],
   "source": [
    "%matplotlib inline\n",
    "import matplotlib.pyplot as plt\n",
    "import numpy as np\n",
    "from scipy.stats import norm\n",
    "from ipywidgets import interact\n",
    "from IPython.core.pylabtools import figsize\n",
    "figsize(12.5, 4)"
   ]
  },
  {
   "cell_type": "code",
   "execution_count": 80,
   "metadata": {
    "collapsed": true
   },
   "outputs": [],
   "source": [
    "mu = 1 # xの期待値\n",
    "Lambda_inverse = 1 #xの精度の逆数\n",
    "A = 1\n",
    "b = 0\n",
    "L_inverse = 0.1 #p(y|x)の精度の逆数"
   ]
  },
  {
   "cell_type": "code",
   "execution_count": 81,
   "metadata": {
    "collapsed": true
   },
   "outputs": [],
   "source": [
    "Sigma = (Lambda_inverse ** -1 +A * L_inverse**-1 *A)**-1\n",
    "\n",
    "x_dist= norm(mu,Lambda_inverse)\n",
    "y_dist= norm(A * mu +b,L_inverse + A* Lambda_inverse *A)\n",
    "\n",
    "def y_conditionated_x_dist(x):\n",
    "    return norm(A*x+b,L_inverse)\n",
    "\n",
    "def x_conditionated_y_dist(y):\n",
    "    return  norm(Sigma*(A * L_inverse**-1 * (y-b) + A*mu),Sigma)"
   ]
  },
  {
   "cell_type": "markdown",
   "metadata": {},
   "source": [
    "# p(y),p(y|x)の描画\n",
    "\n",
    "yの周辺分布とxが与えられた時のyの条件付き分布が次式で与えられたとする。\n",
    "\n",
    "$p(\\mathbf{y}) =  N(\\mathbf{y}|A \\mathbf{\\mu} + \\mathbf{b},L^{-1} + A \\Lambda^{-1} A^{T})$\n",
    "\n",
    "$p(\\mathbf{y}|\\mathbf{x}) = N(\\mathbf{y}|A \\mathbf{x} + \\mathbf{b},L^{-1})$"
   ]
  },
  {
   "cell_type": "code",
   "execution_count": 82,
   "metadata": {},
   "outputs": [
    {
     "data": {
      "application/vnd.jupyter.widget-view+json": {
       "model_id": "f71e408600ee4f5780372dde3cfdb06e"
      }
     },
     "metadata": {},
     "output_type": "display_data"
    }
   ],
   "source": [
    "y = np.linspace(-30,30,500)\n",
    "@interact(x=(-30, 30 ,0.1))\n",
    "def plot_distribution(x):\n",
    "    plt.plot(y,y_dist.pdf(y),label='p(y)')\n",
    "    plt.plot(y,y_conditionated_x_dist(x).pdf(y),label = 'p(y|x)')\n",
    "    plt.legend()\n",
    "    plt.show()\n"
   ]
  },
  {
   "cell_type": "markdown",
   "metadata": {},
   "source": [
    "# p(x),p(x|y) の描画\n",
    "\n",
    "xの周辺分布とyが与えられた時のxの条件付き分布は次式\n",
    "\n",
    "$p(\\mathbf{x}) = N(\\mathbf{x}|\\mathbf{\\mu},\\Lambda^{-1})$\n",
    "\n",
    "$p(\\mathbf{x}|\\mathbf{y}) =  N( \\Sigma\\{\\mathbf{x}|A^{T} L (\\mathbf{y}-\\mathbf{b}) + \\Lambda  \\mathbf{\\mu}\\},\\Sigma)$\n",
    "\n",
    "$\\Sigma = (\\Lambda + A^{T}LA)^{-1}$"
   ]
  },
  {
   "cell_type": "code",
   "execution_count": 85,
   "metadata": {},
   "outputs": [
    {
     "data": {
      "application/vnd.jupyter.widget-view+json": {
       "model_id": "b7b53f4c74cb4582a33eb94ebc3cb3e1"
      }
     },
     "metadata": {},
     "output_type": "display_data"
    }
   ],
   "source": [
    "x = np.linspace(-10,10,500)\n",
    "@interact(y=(-10, 10,0.1))\n",
    "def plot_distribution(y):\n",
    "    plt.plot(x,x_dist.pdf(x),label='p(x)')\n",
    "    plt.plot(x,x_conditionated_y_dist(y).pdf(x),label = 'p(x|y)')\n",
    "    plt.legend()\n",
    "    plt.show()\n"
   ]
  },
  {
   "cell_type": "code",
   "execution_count": 84,
   "metadata": {},
   "outputs": [
    {
     "data": {
      "text/plain": [
       "<matplotlib.collections.PolyCollection at 0x10bb24240>"
      ]
     },
     "execution_count": 84,
     "metadata": {},
     "output_type": "execute_result"
    },
    {
     "data": {
      "image/png": "[encoded data removed]",
      "text/plain": [
       "<matplotlib.figure.Figure at 0x10af239e8>"
      ]
     },
     "metadata": {},
     "output_type": "display_data"
    }
   ],
   "source": [
    "x_list =  np.linspace(-5,5,100)\n",
    "y_list =  np.linspace(-5,5,100)\n",
    "\n",
    "z = []\n",
    "for x in x_list:\n",
    "    for y in y_list:\n",
    "        z.append(x_conditionated_y_dist(y).pdf(x)*x_dist.pdf(x))\n",
    "\n",
    "plt.pcolor(x_list,y_list,np.array(z).reshape([len(x_list),len(y_list)]))\n"
   ]
  },
  {
   "cell_type": "markdown",
   "metadata": {},
   "source": [
    "- p(y|x)の精度が高くなるほど、条件付き確率の事後分布は急峻になる。"
   ]
  },
  {
   "cell_type": "code",
   "execution_count": null,
   "metadata": {
    "collapsed": true
   },
   "outputs": [],
   "source": []
  }
 ],
 "metadata": {
  "kernelspec": {
   "display_name": "Python 3",
   "language": "python",
   "name": "python3"
  },
  "language_info": {
   "codemirror_mode": {
    "name": "ipython",
    "version": 3
   },
   "file_extension": ".py",
   "mimetype": "text/x-python",
   "name": "python",
   "nbconvert_exporter": "python",
   "pygments_lexer": "ipython3",
   "version": "3.5.3"
  }
 },
 "nbformat": 4,
 "nbformat_minor": 2
}

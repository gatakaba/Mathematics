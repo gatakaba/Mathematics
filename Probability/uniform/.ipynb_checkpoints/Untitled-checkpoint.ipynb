{
 "cells": [
  {
   "cell_type": "markdown",
   "metadata": {},
   "source": [
    "- 目的\n",
    " 一様分布U(0,θ)がある。この時データ$D=\\{x_{0},...,x_{N}\\}$が得られたという場合、θの事後分布を求めよ。\n",
    " m = max(D)とする。\n",
    "\n",
    "- 事前分布 $Pareto(\\theta|K,b) =K b^{K}\\theta^{-(K+1)}I(\\theta >b)$\n",
    "\n",
    "- 事後分布 $Pareto(\\theta|N+K,max(m,b))$"
   ]
  },
  {
   "cell_type": "code",
   "execution_count": 2,
   "metadata": {
    "collapsed": true
   },
   "outputs": [],
   "source": [
    "import numpy as np\n",
    "from scipy.stats import pareto\n",
    "import matplotlib.pyplot as plt\n",
    "%matplotlib inline"
   ]
  },
  {
   "cell_type": "code",
   "execution_count": 3,
   "metadata": {
    "collapsed": true
   },
   "outputs": [],
   "source": [
    "def pareto(x,k,m):\n",
    "    l =k*m**k*x**(-k-1)\n",
    "    l[np.where(x<m)]=0\n",
    "    return l"
   ]
  },
  {
   "cell_type": "code",
   "execution_count": 4,
   "metadata": {},
   "outputs": [
    {
     "name": "stderr",
     "output_type": "stream",
     "text": [
      "/Users/kaba/.pyenv/versions/3.5.3/lib/python3.5/site-packages/ipykernel_launcher.py:2: RuntimeWarning: divide by zero encountered in power\n",
      "  \n"
     ]
    },
    {
     "data": {
      "text/plain": [
       "<matplotlib.legend.Legend at 0x10e994cc0>"
      ]
     },
     "execution_count": 4,
     "metadata": {},
     "output_type": "execute_result"
    },
    {
     "data": {
      "image/png": "[encoded data removed]",
      "text/plain": [
       "<matplotlib.figure.Figure at 0x10e8943c8>"
      ]
     },
     "metadata": {},
     "output_type": "display_data"
    }
   ],
   "source": [
    "x=np.linspace(-10,40,1001)\n",
    "K=10\n",
    "b=15\n",
    "\n",
    "sample = np.random.normal(20,4,size=100)\n",
    "m=np.max(sample)\n",
    "N=len(sample)\n",
    "\n",
    "y=pareto(x,K,b)\n",
    "z=pareto(x,K+N,max([m,b]))\n",
    "plt.scatter(sample,np.zeros(N),label=\"samples\")\n",
    "plt.plot(x,y,label=\"prior\")\n",
    "plt.plot(x,z,label=\"posterior\")\n",
    "plt.legend()"
   ]
  },
  {
   "cell_type": "code",
   "execution_count": null,
   "metadata": {
    "collapsed": true
   },
   "outputs": [],
   "source": []
  }
 ],
 "metadata": {
  "kernelspec": {
   "display_name": "Python 3",
   "language": "python",
   "name": "python3"
  },
  "language_info": {
   "codemirror_mode": {
    "name": "ipython",
    "version": 3
   },
   "file_extension": ".py",
   "mimetype": "text/x-python",
   "name": "python",
   "nbconvert_exporter": "python",
   "pygments_lexer": "ipython3",
   "version": "3.5.3"
  }
 },
 "nbformat": 4,
 "nbformat_minor": 2
}

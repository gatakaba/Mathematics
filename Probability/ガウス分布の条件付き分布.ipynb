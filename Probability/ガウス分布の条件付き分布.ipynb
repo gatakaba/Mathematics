{
 "cells": [
  {
   "cell_type": "code",
   "execution_count": 7,
   "metadata": {
    "collapsed": true
   },
   "outputs": [],
   "source": [
    "%matplotlib inline\n",
    "import matplotlib.pyplot as plt\n",
    "import numpy as np\n",
    "from scipy.stats import norm\n",
    "from ipywidgets import interact\n",
    "from IPython.core.pylabtools import figsize\n",
    "import daft\n",
    "figsize(12.5, 4)"
   ]
  },
  {
   "cell_type": "code",
   "execution_count": 27,
   "metadata": {},
   "outputs": [
    {
     "data": {
      "image/png": "[encoded data removed]",
      "text/plain": [
       "<matplotlib.figure.Figure at 0x10fe10e48>"
      ]
     },
     "metadata": {},
     "output_type": "display_data"
    },
    {
     "data": {
      "text/plain": [
       "<matplotlib.figure.Figure at 0x11004edd8>"
      ]
     },
     "metadata": {},
     "output_type": "display_data"
    }
   ],
   "source": [
    "pgm = daft.PGM([9, 4], origin=[.5,.5])\n",
    "\n",
    "pgm.add_node(daft.Node(\"L\", \"L\", 4, 1.0))\n",
    "\n",
    "pgm.add_node(daft.Node(\"mu\", r\"$\\mu$\", 4.5, 3,fixed=True))\n",
    "pgm.add_node(daft.Node(\"Lambda\", r\"$\\Lambda$\", 5.5, 3,fixed=True))\n",
    "\n",
    "pgm.add_node(daft.Node(\"x\", \"x\", 5.0, 2.0))\n",
    "pgm.add_node(daft.Node(\"y\", \"y\", 5.0, 1.0, observed=True))\n",
    "\n",
    "\n",
    "pgm.add_edge(\"L\", \"y\")\n",
    "pgm.add_edge(\"mu\", \"x\")\n",
    "pgm.add_edge(\"Lambda\", \"x\")\n",
    "pgm.add_edge(\"x\", \"y\")\n",
    "\n",
    "pgm.render()\n",
    "plt.figure( figsize=(12,5) )\n",
    "plt.show()"
   ]
  },
  {
   "cell_type": "markdown",
   "metadata": {},
   "source": [
    "以下の式が与えられている\n",
    "\n",
    "$p(\\mathbf{x}) = N(\\mathbf{x}|\\mathbf{\\mu},\\Lambda^{-1})$\n",
    "\n",
    "$p(\\mathbf{y}|\\mathbf{x}) = N(\\mathbf{y}|A \\mathbf{x} + \\mathbf{b},L^{-1})$\n",
    "\n",
    "この時、yの周辺分布とyが与えられた時のxの条件付き分布を求める"
   ]
  },
  {
   "cell_type": "code",
   "execution_count": 59,
   "metadata": {
    "collapsed": true
   },
   "outputs": [],
   "source": [
    "Sigma = (Lambda_inverse ** -1 +A * L_inverse**-1 *A)**-1\n",
    "\n",
    "x_dist= norm(mu,Lambda_inverse)\n",
    "y_dist= norm(A * mu +b,L_inverse + A* Lambda_inverse *A)\n",
    "\n",
    "def y_conditionated_x_dist(x):\n",
    "    return norm(A*x+b,L_inverse)\n",
    "\n",
    "def x_conditionated_y_dist(y):\n",
    "    return  norm(Sigma*(A * L_inverse**-1 * (y-b) + A*mu),Sigma)"
   ]
  },
  {
   "cell_type": "markdown",
   "metadata": {},
   "source": [
    "# p(y),p(y|x)の描画\n",
    "\n",
    "yの周辺分布p(y)とxが与えられた時のyの条件付き分布p(y|x)が次式の場合\n",
    "\n",
    "$p(\\mathbf{y}) =  N(\\mathbf{y}|A \\mathbf{\\mu} + \\mathbf{b},L^{-1} + A \\Lambda^{-1} A^{T})$\n",
    "\n",
    "$p(\\mathbf{y}|\\mathbf{x}) = N(\\mathbf{y}|A \\mathbf{x} + \\mathbf{b},L^{-1})$"
   ]
  },
  {
   "cell_type": "code",
   "execution_count": 61,
   "metadata": {},
   "outputs": [
    {
     "data": {
      "application/vnd.jupyter.widget-view+json": {
       "model_id": "82d8bc098e9448b98d068fbe594fdd31"
      }
     },
     "metadata": {},
     "output_type": "display_data"
    }
   ],
   "source": [
    "y = np.linspace(-10,10,500)\n",
    "@interact(x=(-10, 10 ,0.1))\n",
    "def plot_distribution(x):\n",
    "    plt.plot(y,y_dist.pdf(y),label='p(y)')\n",
    "    plt.plot(y,y_conditionated_x_dist(x).pdf(y),label = 'p(y|x)')\n",
    "    plt.legend()\n",
    "    plt.show()\n"
   ]
  },
  {
   "cell_type": "markdown",
   "metadata": {},
   "source": [
    "# p(x),p(x|y) の描画\n",
    "\n",
    "xの周辺分布とyが与えられた時のxの条件付き分布は次式\n",
    "\n",
    "$p(\\mathbf{x}) = N(\\mathbf{x}|\\mathbf{\\mu},\\Lambda^{-1})$\n",
    "\n",
    "$p(\\mathbf{x}|\\mathbf{y}) =  N( \\Sigma\\{\\mathbf{x}|A^{T} L (\\mathbf{y}-\\mathbf{b}) + \\Lambda  \\mathbf{\\mu}\\},\\Sigma)$\n",
    "\n",
    "$\\Sigma = (\\Lambda + A^{T}LA)^{-1}$"
   ]
  },
  {
   "cell_type": "code",
   "execution_count": 42,
   "metadata": {},
   "outputs": [
    {
     "data": {
      "application/vnd.jupyter.widget-view+json": {
       "model_id": "ea61243394cb4f77954ec7cf91556ad3"
      }
     },
     "metadata": {},
     "output_type": "display_data"
    }
   ],
   "source": [
    "x = np.linspace(-10,10,500)\n",
    "@interact(y=(-10, 10,0.1))\n",
    "def plot_distribution(y):\n",
    "    plt.plot(x,x_dist.pdf(x),label='p(x)')\n",
    "    plt.plot(x,x_conditionated_y_dist(y).pdf(x),label = 'p(x|y)')\n",
    "    plt.legend()\n",
    "    plt.show()\n"
   ]
  },
  {
   "cell_type": "markdown",
   "metadata": {},
   "source": [
    "## p(x,y)の描画"
   ]
  },
  {
   "cell_type": "code",
   "execution_count": 45,
   "metadata": {},
   "outputs": [
    {
     "data": {
      "text/plain": [
       "<matplotlib.text.Text at 0x111045b70>"
      ]
     },
     "execution_count": 45,
     "metadata": {},
     "output_type": "execute_result"
    },
    {
     "data": {
      "image/png": "[encoded data removed]",
      "text/plain": [
       "<matplotlib.figure.Figure at 0x110fdbe48>"
      ]
     },
     "metadata": {},
     "output_type": "display_data"
    }
   ],
   "source": [
    "x_list =  np.linspace(-5,5,50)\n",
    "y_list =  np.linspace(-5,5,50)\n",
    "\n",
    "z = []\n",
    "for x in x_list:\n",
    "    for y in y_list:\n",
    "        z.append(x_conditionated_y_dist(y).pdf(x)*x_dist.pdf(x))\n",
    "\n",
    "plt.pcolor(x_list,y_list,np.array(z).reshape([len(x_list),len(y_list)]))\n",
    "plt.xlabel('x')\n",
    "plt.ylabel('y')"
   ]
  }
 ],
 "metadata": {
  "kernelspec": {
   "display_name": "Python 3",
   "language": "python",
   "name": "python3"
  },
  "language_info": {
   "codemirror_mode": {
    "name": "ipython",
    "version": 3
   },
   "file_extension": ".py",
   "mimetype": "text/x-python",
   "name": "python",
   "nbconvert_exporter": "python",
   "pygments_lexer": "ipython3",
   "version": "3.5.3"
  }
 },
 "nbformat": 4,
 "nbformat_minor": 2
}

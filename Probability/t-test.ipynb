{
 "cells": [
  {
   "cell_type": "code",
   "execution_count": 13,
   "metadata": {
    "collapsed": false
   },
   "outputs": [],
   "source": [
    "%matplotlib inline"
   ]
  },
  {
   "cell_type": "code",
   "execution_count": 42,
   "metadata": {
    "collapsed": true
   },
   "outputs": [],
   "source": [
    "import numpy as np\n",
    "import matplotlib.pyplot  as plt\n",
    "from scipy import stats\n",
    "import pandas as pd\n",
    "import seaborn as sns"
   ]
  },
  {
   "cell_type": "code",
   "execution_count": 89,
   "metadata": {
    "collapsed": false
   },
   "outputs": [
    {
     "name": "stdout",
     "output_type": "stream",
     "text": [
      "t 値は 0.749254037885\n",
      "確率は 0.453721730513\n"
     ]
    },
    {
     "data": {
      "text/plain": [
       "<matplotlib.axes._subplots.AxesSubplot at 0x11aacb3c8>"
      ]
     },
     "execution_count": 89,
     "metadata": {},
     "output_type": "execute_result"
    },
    {
     "data": {
      "image/png": "[encoded data removed]",
      "text/plain": [
       "<matplotlib.figure.Figure at 0x119e19278>"
      ]
     },
     "metadata": {},
     "output_type": "display_data"
    }
   ],
   "source": [
    "X = np.random.normal(65,1,size=10**4)\n",
    "Y = np.random.normal(65,1,size=10**4)\n",
    "\n",
    "t, p = stats.ttest_rel(X, Y)\n",
    "\n",
    "print( \"t 値は %(t)s\" %locals() )\n",
    "print( \"確率は %(p)s\" %locals() )\n",
    "\n",
    "plt.subplot(2,1,1)\n",
    "plt.hist(X,alpha=0.7)\n",
    "plt.hist(Y,alpha=0.7)\n",
    "\n",
    "df=pd.DataFrame()\n",
    "Z=np.concatenate([X,Y])\n",
    "label=[\"X\"]*len(X) +[\"Y\"]*len(Y) \n",
    "df=pd.DataFrame({\"value\":Z,\"label\":label})\n",
    "\n",
    "plt.subplot(2,1,2)\n",
    "sns.barplot(\"value\",\"label\",data=df)"
   ]
  },
  {
   "cell_type": "markdown",
   "metadata": {},
   "source": [
    "### 仮説検定は以下の手順で行われる． \n",
    "\n",
    "1. 検定する仮説を設定する.\n",
    "2. 検定で用いる統計量と検定する際の判定基準を決定する．\n",
    "3. 標本から検定統計量を計算し，判定基準に照らして仮説の採否を決める"
   ]
  },
  {
   "cell_type": "markdown",
   "metadata": {},
   "source": [
    "- 検定にあたっては実験者の予想を対立仮説(H1)，予想に反する仮説を帰無仮説(H0)という\n",
    "- 実際の検定では，検定は帰無仮説が棄却されるかどうかを調べる\n",
    "- 帰無仮説が正しいことを前提とした検定統計量が計算され，これが棄却域に入ると，帰無仮説が間違っていると判断→「帰無仮説を棄却する」\n",
    "- 帰無仮説が棄却されるならば，その逆の対立仮説が採択される（すなわち，実験者の予想が的中した）ことになる "
   ]
  },
  {
   "cell_type": "markdown",
   "metadata": {},
   "source": [
    "# memo\n",
    "- t検定は２つのサンプル群の平均値に差があるかどうかを調べるための検定である\n",
    "- 検定を行う際に２つの仮説を立てる。\n",
    "    - 1つは対立仮説、もう1つは帰無仮説\n",
    "        - t検定において対立仮説はサンプル群の平均に差があるという仮説\n",
    "        - 帰無仮説はサンプル群の平均に差がないという仮説\n",
    "    - 対立仮説は実験者の予想\n",
    "- 検定において、帰無仮説が棄却されるかどうかを調べる\n",
    "- p値は帰無仮説が正しい確率を表している"
   ]
  }
 ],
 "metadata": {
  "kernelspec": {
   "display_name": "Python 3",
   "language": "python",
   "name": "python3"
  },
  "language_info": {
   "codemirror_mode": {
    "name": "ipython",
    "version": 3
   },
   "file_extension": ".py",
   "mimetype": "text/x-python",
   "name": "python",
   "nbconvert_exporter": "python",
   "pygments_lexer": "ipython3",
   "version": "3.5.1"
  }
 },
 "nbformat": 4,
 "nbformat_minor": 0
}
